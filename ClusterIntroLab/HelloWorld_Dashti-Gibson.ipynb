{
 "cells": [
  {
   "cell_type": "markdown",
   "id": "34ff9101-0438-4305-ba44-1e8c5ebde72e",
   "metadata": {},
   "source": [
    "# My First Notebook\n",
    "\n",
    "## subheading\n",
    "\n",
    "### third header\n",
    "\n",
    "First Athena lab.\n",
    "\n",
    "* first\n",
    "    * second"
   ]
  },
  {
   "cell_type": "code",
   "execution_count": 1,
   "id": "43d2d437-d674-4fe2-9582-9938819f24f1",
   "metadata": {
    "tags": []
   },
   "outputs": [
    {
     "name": "stdout",
     "output_type": "stream",
     "text": [
      "Hello World\n"
     ]
    }
   ],
   "source": [
    "print(\"Hello World\")"
   ]
  },
  {
   "cell_type": "code",
   "execution_count": null,
   "id": "9313ebb0-5eb8-4f42-a8d6-4ac70accd0e4",
   "metadata": {},
   "outputs": [],
   "source": []
  }
 ],
 "metadata": {
  "kernelspec": {
   "display_name": "Python 3 (ipykernel)",
   "language": "python",
   "name": "python3"
  },
  "language_info": {
   "codemirror_mode": {
    "name": "ipython",
    "version": 3
   },
   "file_extension": ".py",
   "mimetype": "text/x-python",
   "name": "python",
   "nbconvert_exporter": "python",
   "pygments_lexer": "ipython3",
   "version": "3.11.5"
  }
 },
 "nbformat": 4,
 "nbformat_minor": 5
}
